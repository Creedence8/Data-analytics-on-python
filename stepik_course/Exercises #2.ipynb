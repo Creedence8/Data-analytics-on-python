{
 "cells": [
  {
   "cell_type": "code",
   "execution_count": 1,
   "metadata": {
    "scrolled": true
   },
   "outputs": [
    {
     "name": "stdout",
     "output_type": "stream",
     "text": [
      "qw\n",
      "as\n",
      "qw\n",
      "as\n",
      "as\n",
      "qw\n"
     ]
    }
   ],
   "source": [
    "a = [input() for x in range(4)]\n",
    "d = dict(zip(a[0], a[1]))\n",
    "dr = dict(zip(a[1], a[0]))\n",
    "print(*map(lambda x: d[x], a[2]), sep='')\n",
    "print(*map(lambda x: dr[x], a[3]), sep='')"
   ]
  },
  {
   "cell_type": "code",
   "execution_count": 35,
   "metadata": {
    "scrolled": true
   },
   "outputs": [
    {
     "name": "stdout",
     "output_type": "stream",
     "text": [
      "3\n",
      "a\n",
      "bb\n",
      "cCc\n",
      "2\n",
      "a bb aab aba ccc\n",
      "c bb aaa\n",
      "aba\n",
      "aaa\n",
      "aab\n",
      "c\n"
     ]
    }
   ],
   "source": [
    "s = [input().lower() for i in range(int(input()))]\n",
    "x = set()\n",
    "t=[input().split() for j in range(int(input()))]\n",
    "for i in t:\n",
    "    for ii in i:\n",
    "        if ii.lower() not in s:\n",
    "            x.add(ii)\n",
    "\n",
    "print(*x, sep='\\n')"
   ]
  },
  {
   "cell_type": "code",
   "execution_count": 40,
   "metadata": {},
   "outputs": [
    {
     "name": "stdout",
     "output_type": "stream",
     "text": [
      "4\n",
      "север 10\n",
      "запад 20\n",
      "юг 30\n",
      "восток 40\n",
      "20 -20\n"
     ]
    }
   ],
   "source": [
    "w = {'север':[0,1], 'восток':[1,0], 'юг':[0,-1], 'запад':[-1,0]}\n",
    "x = [0, 0]\n",
    "for i in range(int(input())):\n",
    "    foo, bar = input().split()\n",
    "    x[0] += w[foo][0]*int(bar)\n",
    "    x[1] += w[foo][1]*int(bar)\n",
    "print(*x)    "
   ]
  },
  {
   "cell_type": "code",
   "execution_count": 68,
   "metadata": {},
   "outputs": [
    {
     "name": "stdout",
     "output_type": "stream",
     "text": [
      "1 126.8\n",
      "2 130.66666666666666\n",
      "3 133.85714285714286\n",
      "4 140.1\n",
      "5 146.7\n",
      "6 153.14285714285714\n",
      "7 159.55555555555554\n",
      "8 164.125\n",
      "9 169.33333333333334\n",
      "10 171.33333333333334\n",
      "11 175.46153846153845\n"
     ]
    }
   ],
   "source": [
    "d = {}\n",
    "with open('.\\static\\dataset_3363_2.txt', 'r') as file:\n",
    "    for i in file:\n",
    "        foo, qq, bar = i.strip().split('\\t')\n",
    "        if int(foo) in d:\n",
    "            d[int(foo)].append(int(bar))\n",
    "        else:\n",
    "            d[int(foo)] = [int(bar)]\n",
    "\n",
    "for i in range(1, 12):\n",
    "    print(i, end=' ')\n",
    "    try: print(sum(d[i])/len(d[i]))\n",
    "    except: print('-')"
   ]
  }
 ],
 "metadata": {
  "kernelspec": {
   "display_name": "Python 3",
   "language": "python",
   "name": "python3"
  },
  "language_info": {
   "codemirror_mode": {
    "name": "ipython",
    "version": 3
   },
   "file_extension": ".py",
   "mimetype": "text/x-python",
   "name": "python",
   "nbconvert_exporter": "python",
   "pygments_lexer": "ipython3",
   "version": "3.7.0"
  }
 },
 "nbformat": 4,
 "nbformat_minor": 2
}
