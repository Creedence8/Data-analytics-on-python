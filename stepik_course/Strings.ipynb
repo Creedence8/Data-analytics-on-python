{
 "cells": [
  {
   "cell_type": "code",
   "execution_count": 1,
   "metadata": {},
   "outputs": [
    {
     "name": "stdout",
     "output_type": "stream",
     "text": [
      "acggtgttat\n",
      "40.0\n"
     ]
    }
   ],
   "source": [
    "stroka = input().lower()\n",
    "print(100*(stroka.count('g')+stroka.count('c'))/len(stroka))"
   ]
  },
  {
   "cell_type": "code",
   "execution_count": 19,
   "metadata": {},
   "outputs": [
    {
     "name": "stdout",
     "output_type": "stream",
     "text": [
      "aaaabbcaa\n",
      "a4b2c1a2\n"
     ]
    }
   ],
   "source": [
    "s = input()\n",
    "i , j, k = 1 , 1 , 0\n",
    "res=''\n",
    "while max(i, k) < len(s):\n",
    "    if s[i] == s[k]:\n",
    "        j += 1\n",
    "        i += 1\n",
    "        continue\n",
    "    res += s[k]+str(j)\n",
    "    k += j\n",
    "    i += 1\n",
    "    j = 1\n",
    "res += s[len(s)-1]+str(j)\n",
    "print(res)"
   ]
  }
 ],
 "metadata": {
  "kernelspec": {
   "display_name": "Python 3",
   "language": "python",
   "name": "python3"
  },
  "language_info": {
   "codemirror_mode": {
    "name": "ipython",
    "version": 3
   },
   "file_extension": ".py",
   "mimetype": "text/x-python",
   "name": "python",
   "nbconvert_exporter": "python",
   "pygments_lexer": "ipython3",
   "version": "3.7.0"
  }
 },
 "nbformat": 4,
 "nbformat_minor": 2
}
