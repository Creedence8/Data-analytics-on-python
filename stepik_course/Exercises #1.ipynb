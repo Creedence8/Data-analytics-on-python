{
 "cells": [
  {
   "cell_type": "code",
   "execution_count": 1,
   "metadata": {},
   "outputs": [
    {
     "name": "stdout",
     "output_type": "stream",
     "text": [
      "5\n",
      "5\n",
      "5\n",
      "10.825317547305483\n"
     ]
    }
   ],
   "source": [
    "import math\n",
    "a, b, q = int(input()), int(input()), int(input())\n",
    "p=(a+b+q)/2\n",
    "print (math.sqrt(p*(p-a)*(p-b)*(p-q)))"
   ]
  },
  {
   "cell_type": "code",
   "execution_count": 9,
   "metadata": {},
   "outputs": [
    {
     "name": "stdout",
     "output_type": "stream",
     "text": [
      "-20\n",
      "False\n"
     ]
    }
   ],
   "source": [
    "a = int(input())\n",
    "print(bool(12>=a>-15 or 17>a>14 or a>=19))"
   ]
  },
  {
   "cell_type": "code",
   "execution_count": null,
   "metadata": {},
   "outputs": [],
   "source": [
    "a, b, q = float(input()), float(input()), input()\n",
    "if q=='+':\n",
    "    print(a+b)\n",
    "elif q=='-':\n",
    "    print(a-b)\n",
    "elif q=='/' and b==0:\n",
    "    print('Деление на 0!')\n",
    "elif q=='/':\n",
    "    print(a/b)\n",
    "elif q=='*':\n",
    "    print(a*b)\n",
    "elif q=='mod':\n",
    "    try:\n",
    "        print(a%b)\n",
    "    except Exception: \n",
    "        print(Exception.message)\n",
    "elif q=='pow':\n",
    "    print(a**b)\n",
    "elif q=='div':\n",
    "    try:\n",
    "        print(a//b)\n",
    "    except: \n",
    "        print('Деление на 0!')"
   ]
  },
  {
   "cell_type": "code",
   "execution_count": 4,
   "metadata": {},
   "outputs": [
    {
     "name": "stdout",
     "output_type": "stream",
     "text": [
      "прямоугольник\n",
      "4\n",
      "10\n",
      "40.0\n"
     ]
    }
   ],
   "source": [
    "typ = input()\n",
    "if typ=='треугольник':\n",
    "    import math\n",
    "    a, b, q = float(input()), float(input()), float(input())\n",
    "    p=(a+b+q)/2\n",
    "    print (math.sqrt(p*(p-a)*(p-b)*(p-q)))\n",
    "elif typ=='прямоугольник':\n",
    "    a, b = float(input()), float(input())\n",
    "    print (a*b)\n",
    "elif typ=='круг':\n",
    "    a = float(input())\n",
    "    print (3.14*a*a)"
   ]
  },
  {
   "cell_type": "code",
   "execution_count": 3,
   "metadata": {
    "scrolled": true
   },
   "outputs": [
    {
     "name": "stdout",
     "output_type": "stream",
     "text": [
      "23\n",
      "23\n",
      "21\n",
      "23\n",
      "21\n",
      "23\n"
     ]
    }
   ],
   "source": [
    "a, b, q = int(input()), int(input()), int(input())\n",
    "a1 = max(a, b, q)\n",
    "print(a1)\n",
    "a2 = min(a, b, q)\n",
    "print(a2)\n",
    "print(a + b + q - a1 -a2)"
   ]
  },
  {
   "cell_type": "code",
   "execution_count": 33,
   "metadata": {},
   "outputs": [
    {
     "name": "stdout",
     "output_type": "stream",
     "text": [
      "211\n",
      "211 программистов\n"
     ]
    }
   ],
   "source": [
    "a = int(input())\n",
    "if a % 10 == 1 and a%100!=11 :\n",
    "    print(str(a)+\" программист\")\n",
    "elif 4 >= a % 10 >= 2 and a%100!=12 and a%100!=13 and a%100!=14 and a%100!=11 :\n",
    "    print(str(a)+\" программиста\")\n",
    "else:\n",
    "    print(str(a)+\" программистов\")"
   ]
  },
  {
   "cell_type": "code",
   "execution_count": 2,
   "metadata": {},
   "outputs": [
    {
     "name": "stdout",
     "output_type": "stream",
     "text": [
      "4654644498448498484\n",
      "Обычный\n"
     ]
    }
   ],
   "source": [
    "a = input()\n",
    "if int(a[0])+int(a[1])+int(a[2])==int(a[3])+int(a[4])+int(a[5]):\n",
    "    print('Счастливый')\n",
    "else:\n",
    "    print('Обычный')"
   ]
  },
  {
   "cell_type": "code",
   "execution_count": null,
   "metadata": {},
   "outputs": [],
   "source": []
  }
 ],
 "metadata": {
  "kernelspec": {
   "display_name": "Python 3",
   "language": "python",
   "name": "python3"
  },
  "language_info": {
   "codemirror_mode": {
    "name": "ipython",
    "version": 3
   },
   "file_extension": ".py",
   "mimetype": "text/x-python",
   "name": "python",
   "nbconvert_exporter": "python",
   "pygments_lexer": "ipython3",
   "version": "3.7.0"
  }
 },
 "nbformat": 4,
 "nbformat_minor": 2
}
