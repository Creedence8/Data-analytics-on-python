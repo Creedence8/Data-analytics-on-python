{
 "cells": [
  {
   "cell_type": "code",
   "execution_count": 2,
   "metadata": {},
   "outputs": [
    {
     "name": "stdout",
     "output_type": "stream",
     "text": [
      "['Ivan', 'Masha', 'Sasha', 'Olga', 'O', 'l', 'g', 'a']\n"
     ]
    }
   ],
   "source": [
    "students = ['Ivan', 'Masha', 'Sasha']\n",
    "students += ['Olga']\n",
    "students += 'Olga'\n",
    "print(students)"
   ]
  },
  {
   "cell_type": "code",
   "execution_count": 5,
   "metadata": {},
   "outputs": [
    {
     "name": "stdout",
     "output_type": "stream",
     "text": [
      "4 -1 9 3\n",
      "15\n"
     ]
    }
   ],
   "source": [
    "print(sum(int(x) for x in input().split())) "
   ]
  },
  {
   "cell_type": "code",
   "execution_count": 16,
   "metadata": {},
   "outputs": [
    {
     "name": "stdout",
     "output_type": "stream",
     "text": [
      "2 3 5 4\n",
      "7 7 7 7\n"
     ]
    }
   ],
   "source": [
    "a = [int(x) for x in input().split()]\n",
    "for i in range(len(a)):\n",
    "    if len(a) == 1:\n",
    "        print(*a)\n",
    "        break\n",
    "    if i == len(a)-1:\n",
    "        print(a[-2]+a[0])\n",
    "        break\n",
    "    print(a[i+1]+a[i-1], end=' ')"
   ]
  },
  {
   "cell_type": "code",
   "execution_count": 36,
   "metadata": {},
   "outputs": [
    {
     "name": "stdout",
     "output_type": "stream",
     "text": [
      "4 8 0 3 4 2 0 3\n",
      "0 3 4\n"
     ]
    }
   ],
   "source": [
    "a = sorted([int(x) for x in input().split()])\n",
    "s = set()\n",
    "if len(a)>1:\n",
    "    for i in range(len(a)):\n",
    "        if a[i] == a[i-1]:\n",
    "            s.add(a[i])\n",
    "print(*s, sep=' ')"
   ]
  },
  {
   "cell_type": "code",
   "execution_count": 39,
   "metadata": {},
   "outputs": [
    {
     "name": "stdout",
     "output_type": "stream",
     "text": [
      "[[0, 0, 0], [0, 0, 0], [0, 0, 0]]\n"
     ]
    }
   ],
   "source": [
    "print([[0]*3]*3)"
   ]
  },
  {
   "cell_type": "code",
   "execution_count": 40,
   "metadata": {},
   "outputs": [
    {
     "name": "stdout",
     "output_type": "stream",
     "text": [
      "1\n",
      "-3\n",
      "5\n",
      "-6\n",
      "-10\n",
      "13\n",
      "340\n"
     ]
    }
   ],
   "source": [
    "a = int(input())\n",
    "s = a\n",
    "ss = a**2\n",
    "while s:\n",
    "    a = int(input())\n",
    "    s += a\n",
    "    ss += a**2\n",
    "print(ss)"
   ]
  },
  {
   "cell_type": "code",
   "execution_count": 47,
   "metadata": {},
   "outputs": [
    {
     "name": "stdout",
     "output_type": "stream",
     "text": [
      "7\n",
      "1 2 2 3 3 3 4 "
     ]
    }
   ],
   "source": [
    "num = int(input())\n",
    "i = 0\n",
    "bar = 0\n",
    "while bar < num:\n",
    "    for foo in range(i+1):\n",
    "        if bar < num:\n",
    "            print(i+1, end=' ')\n",
    "        bar += 1  \n",
    "    i += 1"
   ]
  },
  {
   "cell_type": "code",
   "execution_count": 1,
   "metadata": {},
   "outputs": [
    {
     "name": "stdout",
     "output_type": "stream",
     "text": [
      "5 8 6 9\n",
      "9\n",
      "3 "
     ]
    }
   ],
   "source": [
    "lst = [int(x) for x in input().split()]\n",
    "x = int(input())\n",
    "if lst.count(x):\n",
    "    for index, value in enumerate(lst):\n",
    "        if value == x:\n",
    "            print(index, end=' ')\n",
    "else:\n",
    "    print('Отсутствует')"
   ]
  },
  {
   "cell_type": "code",
   "execution_count": 50,
   "metadata": {},
   "outputs": [
    {
     "name": "stdout",
     "output_type": "stream",
     "text": [
      "9 5 3\n",
      "0 7 -1\n",
      "-5 2 9\n",
      "end\n",
      "3 21 22 \n",
      "10 6 19 \n",
      "20 16 -1 \n"
     ]
    }
   ],
   "source": [
    "a = [[]]\n",
    "while a[-1] != 'end':\n",
    "    inn = input()\n",
    "    try: a.append([int(x) for x in inn.split()])\n",
    "    except: a.append(inn)\n",
    "a = a[1:-1]\n",
    "for i in range(len(a)):\n",
    "    for j in range(len(a[0])):        \n",
    "        print(a[i-1][j] + a[(i+1) - len(a)][j] + a[i][j-1] + a[i][(j+1) - len(a[0])], end=' ')\n",
    "    print()    "
   ]
  },
  {
   "cell_type": "code",
   "execution_count": 24,
   "metadata": {},
   "outputs": [
    {
     "name": "stdout",
     "output_type": "stream",
     "text": [
      "6\n",
      "1 2 3 4 5 6\n",
      "20 21 22 23 24 7\n",
      "19 32 33 34 25 8\n",
      "18 31 36 35 26 9\n",
      "17 30 29 28 27 10\n",
      "16 15 14 13 12 11\n"
     ]
    }
   ],
   "source": [
    "n = int(input())\n",
    "a = [[0 for i in range(n)] for j in range(n)]\n",
    "ai, aj, a[ai][aj] = 0, 0, 1\n",
    "for i in range(1, n**2):\n",
    "    if aj+1<n and a[ai][aj+1]==0 and not (ai-1>=0 and a[ai-1][aj]==0):\n",
    "        a[ai][aj+1]=i+1\n",
    "        aj += 1\n",
    "    elif ai+1<n and a[ai+1][aj]==0:\n",
    "        a[ai+1][aj]=i+1\n",
    "        ai += 1\n",
    "    elif aj-1>=0 and a[ai][aj-1]==0:\n",
    "        a[ai][aj-1]=i+1\n",
    "        aj -= 1\n",
    "    elif ai-1>=0 and a[ai-1][aj]==0:\n",
    "        a[ai-1][aj]=i+1\n",
    "        ai -= 1\n",
    "for i in range(len(a)):\n",
    "    print(*a[i])"
   ]
  },
  {
   "cell_type": "code",
   "execution_count": 4,
   "metadata": {},
   "outputs": [
    {
     "name": "stdout",
     "output_type": "stream",
     "text": [
      "456\n",
      "ok\n"
     ]
    }
   ],
   "source": [
    "a = input(\"456\")\n",
    "if a is None:\n",
    "    print('3')\n",
    "else:\n",
    "    print('ok')"
   ]
  }
 ],
 "metadata": {
  "kernelspec": {
   "display_name": "Python 3",
   "language": "python",
   "name": "python3"
  },
  "language_info": {
   "codemirror_mode": {
    "name": "ipython",
    "version": 3
   },
   "file_extension": ".py",
   "mimetype": "text/x-python",
   "name": "python",
   "nbconvert_exporter": "python",
   "pygments_lexer": "ipython3",
   "version": "3.7.0"
  }
 },
 "nbformat": 4,
 "nbformat_minor": 2
}
