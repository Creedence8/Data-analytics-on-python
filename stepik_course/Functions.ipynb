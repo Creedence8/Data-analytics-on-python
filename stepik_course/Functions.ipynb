{
 "cells": [
  {
   "cell_type": "code",
   "execution_count": 5,
   "metadata": {},
   "outputs": [
    {
     "name": "stdout",
     "output_type": "stream",
     "text": [
      "1\n",
      "-0.5\n"
     ]
    }
   ],
   "source": [
    "def f(x):\n",
    "    if x<=-2:\n",
    "        return 1-(x+2)**2\n",
    "    elif 2<x:\n",
    "        return (x-2)**2+1\n",
    "    else:\n",
    "        return -x/2\n",
    "    \n",
    "print(f(float(input())))"
   ]
  },
  {
   "cell_type": "code",
   "execution_count": 43,
   "metadata": {},
   "outputs": [
    {
     "name": "stdout",
     "output_type": "stream",
     "text": [
      "None\n",
      "[1, 2, 3]\n",
      "[1]\n"
     ]
    }
   ],
   "source": [
    "def modify_list(l):\n",
    "    for i, v in enumerate(l):\n",
    "        if v % 2 == 1:\n",
    "            l[i]=''\n",
    "        else:\n",
    "            l[i]=v//2\n",
    "    try: [l.remove('') for x in l]\n",
    "    except: return\n",
    "    \n",
    "lst = [2,  4,  6]\n",
    "print(modify_list(lst))  # None\n",
    "print(lst)               # [1, 2, 3]\n",
    "modify_list(lst)\n",
    "print(lst)    "
   ]
  },
  {
   "cell_type": "code",
   "execution_count": 17,
   "metadata": {},
   "outputs": [
    {
     "name": "stdout",
     "output_type": "stream",
     "text": [
      "3\n",
      "ЦСКА;0;Зенит;2\n",
      "Спартак;1;ЦСКА;1\n",
      "Зенит;3;Спартак;1\n",
      "ЦСКА:2 0 1 1 1\n",
      "Зенит:2 2 0 0 6\n",
      "Спартак:2 0 1 1 1\n"
     ]
    }
   ],
   "source": [
    "def add_in_dict(s, dic):\n",
    "    for i in s:\n",
    "        if i not in dic:\n",
    "            dic[i] = []\n",
    "        \n",
    "n = int(input())\n",
    "d = {}\n",
    "for i in range(n):\n",
    "    q = input().split(';')\n",
    "    add_in_dict([q[0], q[2]], d)\n",
    "    if q[1]>q[3]:\n",
    "        d[q[0]].append(3)\n",
    "        d[q[2]].append(0)\n",
    "    elif q[1]==q[3]:\n",
    "        d[q[0]].append(1)\n",
    "        d[q[2]].append(1)\n",
    "    else:\n",
    "        d[q[0]].append(0)\n",
    "        d[q[2]].append(3)\n",
    "for k, v in d.items():\n",
    "    print(k+':'+str(len(v)), v.count(3),\n",
    "          v.count(1), v.count(0), sum(v))"
   ]
  }
 ],
 "metadata": {
  "kernelspec": {
   "display_name": "Python 3",
   "language": "python",
   "name": "python3"
  }
 },
 "nbformat": 4,
 "nbformat_minor": 2
}
