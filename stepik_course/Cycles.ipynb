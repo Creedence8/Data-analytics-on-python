{
 "cells": [
  {
   "cell_type": "code",
   "execution_count": 17,
   "metadata": {},
   "outputs": [
    {
     "name": "stdout",
     "output_type": "stream",
     "text": [
      "5 7 9 11 13 15 17 19 21 23 25 27 29 31 33 35 37 39 41 43 45 47 49 51 53 55 "
     ]
    },
    {
     "data": {
      "text/plain": [
       "[None,\n",
       " None,\n",
       " None,\n",
       " None,\n",
       " None,\n",
       " None,\n",
       " None,\n",
       " None,\n",
       " None,\n",
       " None,\n",
       " None,\n",
       " None,\n",
       " None,\n",
       " None,\n",
       " None,\n",
       " None,\n",
       " None,\n",
       " None,\n",
       " None,\n",
       " None,\n",
       " None,\n",
       " None,\n",
       " None,\n",
       " None,\n",
       " None,\n",
       " None]"
      ]
     },
     "execution_count": 17,
     "metadata": {},
     "output_type": "execute_result"
    }
   ],
   "source": [
    "[print(x*2+1, end=' ') for x in range(2,28)]"
   ]
  },
  {
   "cell_type": "code",
   "execution_count": 2,
   "metadata": {},
   "outputs": [
    {
     "name": "stdout",
     "output_type": "stream",
     "text": [
      "0\n",
      "0\n"
     ]
    }
   ],
   "source": [
    "s=0\n",
    "while 1:\n",
    "    a = int(input())\n",
    "    s += a\n",
    "    if a==0:\n",
    "        print(s)\n",
    "        break"
   ]
  },
  {
   "cell_type": "code",
   "execution_count": 5,
   "metadata": {},
   "outputs": [
    {
     "name": "stdout",
     "output_type": "stream",
     "text": [
      "12\n",
      "16\n",
      "48\n"
     ]
    }
   ],
   "source": [
    "a, b = int(input()), int(input())\n",
    "doo = max(a,b)\n",
    "while a*b:\n",
    "    if doo%a==0 and doo%b==0:\n",
    "        print (doo) \n",
    "        break\n",
    "    doo += 1"
   ]
  },
  {
   "cell_type": "code",
   "execution_count": 7,
   "metadata": {},
   "outputs": [
    {
     "name": "stdout",
     "output_type": "stream",
     "text": [
      "7\n"
     ]
    }
   ],
   "source": [
    "i = 0\n",
    "s = 0\n",
    "while i < 10:\n",
    "    i = i + 1\n",
    "    s = s + i\n",
    "    if s > 15:\n",
    "        break\n",
    "    i = i + 1\n",
    "print(i)"
   ]
  },
  {
   "cell_type": "code",
   "execution_count": 11,
   "metadata": {},
   "outputs": [
    {
     "name": "stdout",
     "output_type": "stream",
     "text": [
      "1\n",
      "2\n",
      "102\n"
     ]
    }
   ],
   "source": [
    "while 1:\n",
    "    a = int(input())\n",
    "    if a<10:\n",
    "        continue\n",
    "    if a>100:\n",
    "        break\n",
    "    print(a)"
   ]
  },
  {
   "cell_type": "code",
   "execution_count": 20,
   "metadata": {},
   "outputs": [
    {
     "name": "stdout",
     "output_type": "stream",
     "text": [
      "1\n",
      "3\n",
      "2\n",
      "4\n",
      " \t2\t3\t4\t\n",
      "1\t2\t3\t4\t\n",
      "2\t4\t6\t8\t\n",
      "3\t6\t9\t12\t\n"
     ]
    }
   ],
   "source": [
    "a, b, a1, a2 = int(input()), int(input()), int(input()), int(input())\n",
    "print(' ', end='\\t')\n",
    "for y in range(a1,a2+1):\n",
    "    print(y, end='\\t')\n",
    "print()    \n",
    "for x in range(a, b+1):\n",
    "    print(x, end='\\t')\n",
    "    for y in range(a1,a2+1):\n",
    "        print(x*y, end='\\t')\n",
    "    print()"
   ]
  },
  {
   "cell_type": "code",
   "execution_count": 26,
   "metadata": {},
   "outputs": [
    {
     "name": "stdout",
     "output_type": "stream",
     "text": [
      "5\n",
      "12\n",
      "9.0\n"
     ]
    }
   ],
   "source": [
    "a1, a2 = (int(input()) for x in [1,2])\n",
    "res = [x for x in range(a1, a2+1) if x%3==0]\n",
    "print(sum(res)/len(res))"
   ]
  },
  {
   "cell_type": "code",
   "execution_count": 37,
   "metadata": {},
   "outputs": [
    {
     "name": "stdout",
     "output_type": "stream",
     "text": [
      "-5\n",
      "12\n",
      "\n",
      "1\n",
      "-3\n",
      "4.5\n"
     ]
    }
   ],
   "source": [
    "a,b = int(input()), int(input())\n",
    "print()\n",
    "print(-a%4)\n",
    "a += 3-a%3\n",
    "print(a)\n",
    "b -= b%3\n",
    "print((a+b)/2)"
   ]
  },
  {
   "cell_type": "code",
   "execution_count": 46,
   "metadata": {},
   "outputs": [
    {
     "name": "stdout",
     "output_type": "stream",
     "text": [
      "-78\n",
      "33\n",
      "21\n"
     ]
    }
   ],
   "source": [
    "print(int(input())%int(input()))"
   ]
  },
  {
   "cell_type": "code",
   "execution_count": 6,
   "metadata": {},
   "outputs": [
    {
     "name": "stdout",
     "output_type": "stream",
     "text": [
      "284.0\n"
     ]
    }
   ],
   "source": [
    "print(17500+852/2 +335/2 - 17500-852/6 -335/2)"
   ]
  }
 ],
 "metadata": {
  "kernelspec": {
   "display_name": "Python 3",
   "language": "python",
   "name": "python3"
  },
  "language_info": {
   "codemirror_mode": {
    "name": "ipython",
    "version": 3
   },
   "file_extension": ".py",
   "mimetype": "text/x-python",
   "name": "python",
   "nbconvert_exporter": "python",
   "pygments_lexer": "ipython3",
   "version": "3.7.0"
  }
 },
 "nbformat": 4,
 "nbformat_minor": 2
}
