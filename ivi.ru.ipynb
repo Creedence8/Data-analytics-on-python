{
 "cells": [
  {
   "cell_type": "markdown",
   "metadata": {},
   "source": [
    "# Задание для продуктовых аналитиков "
   ]
  },
  {
   "cell_type": "markdown",
   "metadata": {},
   "source": [
    "## Задание 1"
   ]
  },
  {
   "cell_type": "markdown",
   "metadata": {},
   "source": [
    "#### Запросы будут написаны на proc sql (диалект SAS) и продублированы на python"
   ]
  },
  {
   "cell_type": "code",
   "execution_count": 1,
   "metadata": {},
   "outputs": [],
   "source": [
    "import pandas as pd\n",
    "from datetime import datetime, date, timedelta\n",
    "\n",
    "# Загрузим данные из задания\n",
    "content_watch = pd.read_excel('table1.xlsx', parse_dates=['show_date ']) \n",
    "content = pd.read_excel('table2.xlsx')"
   ]
  },
  {
   "cell_type": "markdown",
   "metadata": {},
   "source": [
    "Данных немного, поэтому соединим таблицы сразу"
   ]
  },
  {
   "cell_type": "code",
   "execution_count": null,
   "metadata": {},
   "outputs": [],
   "source": [
    "# sql\n",
    "with data as (\n",
    "select *\n",
    "from content_watch cw \n",
    "    right join content co \n",
    "    on cw.content_id=co.content_id\n",
    ")"
   ]
  },
  {
   "cell_type": "code",
   "execution_count": 2,
   "metadata": {},
   "outputs": [
    {
     "data": {
      "text/html": [
       "<div>\n",
       "<style scoped>\n",
       "    .dataframe tbody tr th:only-of-type {\n",
       "        vertical-align: middle;\n",
       "    }\n",
       "\n",
       "    .dataframe tbody tr th {\n",
       "        vertical-align: top;\n",
       "    }\n",
       "\n",
       "    .dataframe thead th {\n",
       "        text-align: right;\n",
       "    }\n",
       "</style>\n",
       "<table border=\"1\" class=\"dataframe\">\n",
       "  <thead>\n",
       "    <tr style=\"text-align: right;\">\n",
       "      <th></th>\n",
       "      <th>watch_id</th>\n",
       "      <th>show_date</th>\n",
       "      <th>show_duration</th>\n",
       "      <th>platform</th>\n",
       "      <th>user_id</th>\n",
       "      <th>utm_medium</th>\n",
       "      <th>content_id</th>\n",
       "      <th>compilation_id</th>\n",
       "      <th>episode</th>\n",
       "      <th>paid_type</th>\n",
       "    </tr>\n",
       "  </thead>\n",
       "  <tbody>\n",
       "    <tr>\n",
       "      <th>0</th>\n",
       "      <td>10971121570</td>\n",
       "      <td>2018-07-01 14:37:00</td>\n",
       "      <td>1340</td>\n",
       "      <td>583</td>\n",
       "      <td>1553139</td>\n",
       "      <td>organic</td>\n",
       "      <td>314472</td>\n",
       "      <td>9570</td>\n",
       "      <td>1</td>\n",
       "      <td>AVOD</td>\n",
       "    </tr>\n",
       "    <tr>\n",
       "      <th>1</th>\n",
       "      <td>4458319751</td>\n",
       "      <td>2018-12-01 15:00:00</td>\n",
       "      <td>12432</td>\n",
       "      <td>353</td>\n",
       "      <td>1554866</td>\n",
       "      <td>organic</td>\n",
       "      <td>314472</td>\n",
       "      <td>9570</td>\n",
       "      <td>1</td>\n",
       "      <td>AVOD</td>\n",
       "    </tr>\n",
       "    <tr>\n",
       "      <th>2</th>\n",
       "      <td>31382550</td>\n",
       "      <td>2018-08-02 14:39:00</td>\n",
       "      <td>1800</td>\n",
       "      <td>10</td>\n",
       "      <td>5255577</td>\n",
       "      <td>organic</td>\n",
       "      <td>314472</td>\n",
       "      <td>9570</td>\n",
       "      <td>1</td>\n",
       "      <td>AVOD</td>\n",
       "    </tr>\n",
       "    <tr>\n",
       "      <th>3</th>\n",
       "      <td>11254336994</td>\n",
       "      <td>2017-07-07 17:56:00</td>\n",
       "      <td>210</td>\n",
       "      <td>11</td>\n",
       "      <td>1554866</td>\n",
       "      <td>organic</td>\n",
       "      <td>314472</td>\n",
       "      <td>9570</td>\n",
       "      <td>1</td>\n",
       "      <td>AVOD</td>\n",
       "    </tr>\n",
       "    <tr>\n",
       "      <th>4</th>\n",
       "      <td>1231646730</td>\n",
       "      <td>2016-01-01 12:48:00</td>\n",
       "      <td>4685</td>\n",
       "      <td>11</td>\n",
       "      <td>1554866</td>\n",
       "      <td>organic</td>\n",
       "      <td>132271</td>\n",
       "      <td>NULL</td>\n",
       "      <td>NULL</td>\n",
       "      <td>SVOD</td>\n",
       "    </tr>\n",
       "    <tr>\n",
       "      <th>5</th>\n",
       "      <td>4212172051</td>\n",
       "      <td>2018-12-08 10:52:00</td>\n",
       "      <td>472</td>\n",
       "      <td>11</td>\n",
       "      <td>1554866</td>\n",
       "      <td>organic</td>\n",
       "      <td>314480</td>\n",
       "      <td>9570</td>\n",
       "      <td>2</td>\n",
       "      <td>AVOD</td>\n",
       "    </tr>\n",
       "    <tr>\n",
       "      <th>6</th>\n",
       "      <td>8909218338</td>\n",
       "      <td>2017-09-05 00:55:00</td>\n",
       "      <td>297</td>\n",
       "      <td>583</td>\n",
       "      <td>9462609</td>\n",
       "      <td>direct</td>\n",
       "      <td>127399</td>\n",
       "      <td>9570</td>\n",
       "      <td>6</td>\n",
       "      <td>TVOD</td>\n",
       "    </tr>\n",
       "    <tr>\n",
       "      <th>7</th>\n",
       "      <td>1904761857</td>\n",
       "      <td>2018-09-24 19:31:00</td>\n",
       "      <td>1635</td>\n",
       "      <td>9</td>\n",
       "      <td>320756</td>\n",
       "      <td>organic</td>\n",
       "      <td>127399</td>\n",
       "      <td>9570</td>\n",
       "      <td>6</td>\n",
       "      <td>TVOD</td>\n",
       "    </tr>\n",
       "    <tr>\n",
       "      <th>8</th>\n",
       "      <td>17947987</td>\n",
       "      <td>2018-10-30 04:45:00</td>\n",
       "      <td>854</td>\n",
       "      <td>353</td>\n",
       "      <td>1547421</td>\n",
       "      <td>referral</td>\n",
       "      <td>184673</td>\n",
       "      <td>7608</td>\n",
       "      <td>16</td>\n",
       "      <td>AVOD</td>\n",
       "    </tr>\n",
       "    <tr>\n",
       "      <th>9</th>\n",
       "      <td>6077839073</td>\n",
       "      <td>2017-07-12 23:58:00</td>\n",
       "      <td>4571</td>\n",
       "      <td>353</td>\n",
       "      <td>4066590</td>\n",
       "      <td>organic</td>\n",
       "      <td>222161</td>\n",
       "      <td>NULL</td>\n",
       "      <td>NULL</td>\n",
       "      <td>AVOD</td>\n",
       "    </tr>\n",
       "  </tbody>\n",
       "</table>\n",
       "</div>"
      ],
      "text/plain": [
       "     watch_id           show_date   show_duration   platform   user_id   \\\n",
       "0  10971121570 2018-07-01 14:37:00            1340        583   1553139   \n",
       "1   4458319751 2018-12-01 15:00:00           12432        353   1554866   \n",
       "2     31382550 2018-08-02 14:39:00            1800         10   5255577   \n",
       "3  11254336994 2017-07-07 17:56:00             210         11   1554866   \n",
       "4   1231646730 2016-01-01 12:48:00            4685         11   1554866   \n",
       "5   4212172051 2018-12-08 10:52:00             472         11   1554866   \n",
       "6   8909218338 2017-09-05 00:55:00             297        583   9462609   \n",
       "7   1904761857 2018-09-24 19:31:00            1635          9    320756   \n",
       "8     17947987 2018-10-30 04:45:00             854        353   1547421   \n",
       "9   6077839073 2017-07-12 23:58:00            4571        353   4066590   \n",
       "\n",
       "  utm_medium   content_id  compilation_id  episode  paid_type   \n",
       "0    organic        314472           9570        1       AVOD   \n",
       "1    organic        314472           9570        1       AVOD   \n",
       "2    organic        314472           9570        1       AVOD   \n",
       "3    organic        314472           9570        1       AVOD   \n",
       "4    organic        132271           NULL     NULL       SVOD   \n",
       "5    organic        314480           9570        2       AVOD   \n",
       "6     direct        127399           9570        6       TVOD   \n",
       "7    organic        127399           9570        6       TVOD   \n",
       "8   referral        184673           7608       16       AVOD   \n",
       "9    organic        222161           NULL     NULL       AVOD   "
      ]
     },
     "execution_count": 2,
     "metadata": {},
     "output_type": "execute_result"
    }
   ],
   "source": [
    "# python\n",
    "data = pd.merge(content_watch, content, how='right', on=['content_id '])\n",
    "data"
   ]
  },
  {
   "cell_type": "markdown",
   "metadata": {},
   "source": [
    "### 1. На каждый день количество просмотров отдельно по монетизациям SVOD и AVOD на платформах 10 и 11 за последние 30 дней."
   ]
  },
  {
   "cell_type": "code",
   "execution_count": null,
   "metadata": {},
   "outputs": [],
   "source": [
    "# sql\n",
    "select  date(show_date) as date, \n",
    "        paid_type, \n",
    "        platform, \n",
    "        count(watch_id)\n",
    "from data\n",
    "where   date(show_date)>today()-30\n",
    "        and platform in (10, 11) \n",
    "        and paid_type in (\"SVOD\", \"AVOD\")\n",
    "group by date(show_date), paid_type, platform"
   ]
  },
  {
   "cell_type": "code",
   "execution_count": 3,
   "metadata": {},
   "outputs": [
    {
     "data": {
      "text/html": [
       "<div>\n",
       "<style scoped>\n",
       "    .dataframe tbody tr th:only-of-type {\n",
       "        vertical-align: middle;\n",
       "    }\n",
       "\n",
       "    .dataframe tbody tr th {\n",
       "        vertical-align: top;\n",
       "    }\n",
       "\n",
       "    .dataframe thead th {\n",
       "        text-align: right;\n",
       "    }\n",
       "</style>\n",
       "<table border=\"1\" class=\"dataframe\">\n",
       "  <thead>\n",
       "    <tr style=\"text-align: right;\">\n",
       "      <th></th>\n",
       "      <th></th>\n",
       "      <th></th>\n",
       "      <th>watch_id</th>\n",
       "    </tr>\n",
       "    <tr>\n",
       "      <th>show_date</th>\n",
       "      <th>paid_type</th>\n",
       "      <th>platform</th>\n",
       "      <th></th>\n",
       "    </tr>\n",
       "  </thead>\n",
       "  <tbody>\n",
       "    <tr>\n",
       "      <th>2018-08-02</th>\n",
       "      <th>AVOD</th>\n",
       "      <th>10</th>\n",
       "      <td>1</td>\n",
       "    </tr>\n",
       "    <tr>\n",
       "      <th>2018-12-08</th>\n",
       "      <th>AVOD</th>\n",
       "      <th>11</th>\n",
       "      <td>1</td>\n",
       "    </tr>\n",
       "  </tbody>\n",
       "</table>\n",
       "</div>"
      ],
      "text/plain": [
       "                                 watch_id \n",
       "show_date  paid_type  platform            \n",
       "2018-08-02 AVOD       10                 1\n",
       "2018-12-08 AVOD       11                 1"
      ]
     },
     "execution_count": 3,
     "metadata": {},
     "output_type": "execute_result"
    }
   ],
   "source": [
    "# python\n",
    "data[ (data['platform '].isin([10,11])) &\n",
    "      (data['paid_type '].isin([\"SVOD \", \"AVOD \"])) &\n",
    "      (data['show_date '] > datetime.today() - timedelta(days=360))  # фильтрация. Для наглядности взял последние 360 дней\n",
    "    ].groupby([data['show_date '].apply(lambda x: x.date()), \n",
    "               'paid_type ', \n",
    "               'platform '                                           # группировка\n",
    "              ])[['watch_id ']].count()                              # подсчет итогового значения"
   ]
  },
  {
   "cell_type": "markdown",
   "metadata": {},
   "source": [
    "### 2. Ежемесячный ТОП-5 сериалов и ТОП-5 единичного контента по количеству смотрящих людей."
   ]
  },
  {
   "cell_type": "code",
   "execution_count": null,
   "metadata": {},
   "outputs": [],
   "source": [
    "# sql\n",
    "select date, content_type, id, cnt\n",
    "from (select id, content_type, date, count(distinct user_id) cnt,\n",
    "             rank() over (partition by date, content_type order by count(distinct user_id) desc) num\n",
    "      from (select coalesce(compilation_id, content_id) as id,\n",
    "                   case when compilation_id is not null then 'сериал' else 'единичный_контент' end as content_type,\n",
    "                   user_id,\n",
    "                   date(show_date, 'Y-M') as date\n",
    "            from data)t1\n",
    "      group by id, content_type, date)t2\n",
    "where num<=5"
   ]
  },
  {
   "cell_type": "code",
   "execution_count": 4,
   "metadata": {},
   "outputs": [
    {
     "data": {
      "text/html": [
       "<div>\n",
       "<style scoped>\n",
       "    .dataframe tbody tr th:only-of-type {\n",
       "        vertical-align: middle;\n",
       "    }\n",
       "\n",
       "    .dataframe tbody tr th {\n",
       "        vertical-align: top;\n",
       "    }\n",
       "\n",
       "    .dataframe thead th {\n",
       "        text-align: right;\n",
       "    }\n",
       "</style>\n",
       "<table border=\"1\" class=\"dataframe\">\n",
       "  <thead>\n",
       "    <tr style=\"text-align: right;\">\n",
       "      <th></th>\n",
       "      <th></th>\n",
       "      <th></th>\n",
       "      <th>user_id</th>\n",
       "    </tr>\n",
       "    <tr>\n",
       "      <th>Дата</th>\n",
       "      <th>Тип контента</th>\n",
       "      <th>id контента</th>\n",
       "      <th></th>\n",
       "    </tr>\n",
       "  </thead>\n",
       "  <tbody>\n",
       "    <tr>\n",
       "      <th>2016-01</th>\n",
       "      <th>единичный_контент</th>\n",
       "      <th>132271</th>\n",
       "      <td>1</td>\n",
       "    </tr>\n",
       "    <tr>\n",
       "      <th rowspan=\"2\" valign=\"top\">2017-07</th>\n",
       "      <th>единичный_контент</th>\n",
       "      <th>222161</th>\n",
       "      <td>1</td>\n",
       "    </tr>\n",
       "    <tr>\n",
       "      <th>сериал</th>\n",
       "      <th>9570</th>\n",
       "      <td>1</td>\n",
       "    </tr>\n",
       "    <tr>\n",
       "      <th>2017-09</th>\n",
       "      <th>сериал</th>\n",
       "      <th>9570</th>\n",
       "      <td>1</td>\n",
       "    </tr>\n",
       "    <tr>\n",
       "      <th>2018-07</th>\n",
       "      <th>сериал</th>\n",
       "      <th>9570</th>\n",
       "      <td>1</td>\n",
       "    </tr>\n",
       "    <tr>\n",
       "      <th>2018-08</th>\n",
       "      <th>сериал</th>\n",
       "      <th>9570</th>\n",
       "      <td>1</td>\n",
       "    </tr>\n",
       "    <tr>\n",
       "      <th>2018-09</th>\n",
       "      <th>сериал</th>\n",
       "      <th>9570</th>\n",
       "      <td>1</td>\n",
       "    </tr>\n",
       "    <tr>\n",
       "      <th>2018-10</th>\n",
       "      <th>сериал</th>\n",
       "      <th>7608</th>\n",
       "      <td>1</td>\n",
       "    </tr>\n",
       "    <tr>\n",
       "      <th>2018-12</th>\n",
       "      <th>сериал</th>\n",
       "      <th>9570</th>\n",
       "      <td>1</td>\n",
       "    </tr>\n",
       "  </tbody>\n",
       "</table>\n",
       "</div>"
      ],
      "text/plain": [
       "                                       user_id \n",
       "Дата    Тип контента      id контента          \n",
       "2016-01 единичный_контент 132271              1\n",
       "2017-07 единичный_контент 222161              1\n",
       "        сериал            9570                1\n",
       "2017-09 сериал            9570                1\n",
       "2018-07 сериал            9570                1\n",
       "2018-08 сериал            9570                1\n",
       "2018-09 сериал            9570                1\n",
       "2018-10 сериал            7608                1\n",
       "2018-12 сериал            9570                1"
      ]
     },
     "execution_count": 4,
     "metadata": {},
     "output_type": "execute_result"
    }
   ],
   "source": [
    "# python\n",
    "# считаем уник. пользователей для каждого контента в каждый месяц\n",
    "temp = data.groupby([data['show_date '].apply(lambda x: x.strftime('%Y-%m')),\n",
    "                     data.iloc[:,6:8].apply(lambda x: 'единичный_контент' if x[1] == 'NULL ' else 'сериал', axis=1),\n",
    "                     data.iloc[:,6:8].apply(lambda x: x[0] if x[1] == 'NULL ' else x[1], axis=1)\n",
    "                    ])[['user_id ']].nunique()\n",
    "temp.index.names=['Дата','Тип контента','id контента']\n",
    "# выбираем топ-5 записей для каждого типа контента\n",
    "temp.sort_values(['user_id '], ascending=False).groupby(['Дата','Тип контента','id контента']).head(5)"
   ]
  },
  {
   "cell_type": "markdown",
   "metadata": {},
   "source": [
    "### 3.  Список пользователей, у которых вчера был сначала просмотр с organic, а потом с referral"
   ]
  },
  {
   "cell_type": "code",
   "execution_count": null,
   "metadata": {},
   "outputs": [],
   "source": [
    "# sql\n",
    "select distinct user_id\n",
    "from data t1\n",
    "where date(show_date)=today()-1 and\n",
    "      utm_medium='organic' and\n",
    "      exists (select user_id\n",
    "              from data\n",
    "              where date(show_date)=today()-1 and\n",
    "                    utm_medium='referral' and\n",
    "                    user_id=t1.user_id and\n",
    "                    show_date>t1.show_date)"
   ]
  },
  {
   "cell_type": "code",
   "execution_count": 5,
   "metadata": {},
   "outputs": [
    {
     "data": {
      "text/plain": [
       "array([], dtype=int64)"
      ]
     },
     "execution_count": 5,
     "metadata": {},
     "output_type": "execute_result"
    }
   ],
   "source": [
    "# python\n",
    "t = data[(data['show_date '].apply(lambda x: x.date()) == date.today() - timedelta(1)) &\n",
    "     data['utm_medium '].isin(['referral ', 'organic '])][['show_date ', 'utm_medium ', 'user_id ']]\n",
    "t = pd.merge(t[t['utm_medium ']=='referral '] , t[t['utm_medium ']=='organic '], on=['user_id '])\n",
    "t[t['show_date _y'] < t['show_date _x']]['user_id '].unique()"
   ]
  },
  {
   "cell_type": "markdown",
   "metadata": {},
   "source": [
    "## Задание 2. Придумайте, как оценить показатели, и напишите запросы для расчёта придуманных метрик."
   ]
  },
  {
   "cell_type": "markdown",
   "metadata": {},
   "source": [
    "### 1. \"Цепляемость\" и \"крутость\" сериала. Нужна какая-то метрика, которая при наличии трёх-четырёх серий сериала позволит сравнить этот сериал по \"крутости\" с другими сериалами."
   ]
  },
  {
   "cell_type": "markdown",
   "metadata": {},
   "source": [
    "Крутой сериал - это тот, который смотрят быстро и до конца. Поэтому можно сделать две метрики:\n",
    "1. Метрика, оценивающая объем просмотренного контента.\n",
    "Расчет: среднее количество серий просмотренных одним пользователем / доступное количество серий.\n",
    "Для ее расчета необходимо знать общее количетство серий в сериале.\n",
    "2. Метрика, оценивающая скорость просмотра контента.\n",
    "Расчет: среднее количество часов между просмотром последней и первой серии / доступное количество серий."
   ]
  },
  {
   "cell_type": "code",
   "execution_count": null,
   "metadata": {},
   "outputs": [],
   "source": [
    "# sql запрос для расчет второй метрики. Использую упрощение, что минимальной и максимальной датам просмотра соответствуют первая и последняя серии\n",
    "select compilation_id,\n",
    "        median(hours_on_episode) hours_on_episode_med\n",
    "from\n",
    "    (select compilation_id, \n",
    "            user_id,\n",
    "            ((max(show_date) - min(show_date))/3600) / count(distinct episode) as hours_on_episode\n",
    "    from data\n",
    "    where compilation_id is not null\n",
    "    group by compilation_id, user_id)t1\n",
    "group by compilation_id"
   ]
  },
  {
   "cell_type": "markdown",
   "metadata": {},
   "source": [
    "### 2. Ретеншн всех пользователей сервиса. Нужно просегментировать аудиторию, рассчитать её ретеншн по сегментам и дать рекомендации по тому, как увеличить ретеншн каждого из сегментов."
   ]
  },
  {
   "cell_type": "markdown",
   "metadata": {},
   "source": [
    "Если брать только одну метрику ретеншена, то можно посчитать rolling retention 1-го дня. Он покажет, как возвращаются люди после первого знакомства с системой. Просегментируем по дню, платформе и источнику трафика."
   ]
  },
  {
   "cell_type": "code",
   "execution_count": null,
   "metadata": {},
   "outputs": [],
   "source": [
    "select platform, utm_medium, date(datetime), sum(return)/count(user_id) as day_1_rolling_retention\n",
    "from\n",
    "    (select t1.user_id, datetime, return, platform, utm_medium\n",
    "    from\n",
    "        (select user_id,\n",
    "                min(show_date) as datetime,\n",
    "                case when max(date(show_date)) > min(date(show_date)) then 1 else 0 end as return\n",
    "        from data\n",
    "        group by user_id)t1\n",
    "    join data on t1.user_id=data.user_id and t1.datetime=data.show_date)t2\n",
    "group by platform, utm_medium, date(datetime)"
   ]
  },
  {
   "cell_type": "markdown",
   "metadata": {},
   "source": [
    "Как увеличить удержание:\n",
    "- в конце серии сериала показывать трейлер следующей.\n",
    "- сообщать пользователю о выходе новой серии, фильма (push, рассылка)\n",
    "- мотивировать к общению в комментариях (ввести карму)\n",
    "- рекомендация нового контента\n",
    "- спонтанные скидки "
   ]
  }
 ],
 "metadata": {
  "kernelspec": {
   "display_name": "Python 3",
   "language": "python",
   "name": "python3"
  },
  "language_info": {
   "codemirror_mode": {
    "name": "ipython",
    "version": 3
   },
   "file_extension": ".py",
   "mimetype": "text/x-python",
   "name": "python",
   "nbconvert_exporter": "python",
   "pygments_lexer": "ipython3",
   "version": "3.7.0"
  }
 },
 "nbformat": 4,
 "nbformat_minor": 2
}
