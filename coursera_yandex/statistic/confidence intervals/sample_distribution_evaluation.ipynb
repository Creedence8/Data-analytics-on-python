{
 "cells": [
  {
   "cell_type": "code",
   "execution_count": 1,
   "metadata": {},
   "outputs": [],
   "source": [
    "import pandas as pd\n",
    "import numpy as np\n",
    "import matplotlib.pyplot as plt\n",
    "import scipy.stats as sts\n",
    "%matplotlib inline"
   ]
  },
  {
   "cell_type": "markdown",
   "metadata": {},
   "source": [
    "# Дискретное распределение"
   ]
  },
  {
   "cell_type": "markdown",
   "metadata": {},
   "source": [
    "Сгенерируем выборку объёма 100 из дискретного распределения с шестью равновероятными исходами."
   ]
  },
  {
   "cell_type": "code",
   "execution_count": 19,
   "metadata": {},
   "outputs": [
    {
     "data": {
      "text/plain": [
       "array([5, 4, 3, 5, 1, 1, 2, 2, 1, 4, 2, 3, 6, 5, 6, 4, 6, 2, 5, 5, 3, 5,\n",
       "       5, 4, 2, 1, 1, 2, 1, 4, 4, 6, 3, 4, 6, 1, 5, 3, 1, 3, 2, 2, 6, 1,\n",
       "       5, 5, 3, 2, 6, 4, 6, 5, 1, 5, 6, 1, 1, 4, 3, 4, 1, 3, 4, 5, 2, 4,\n",
       "       5, 5, 6, 5, 2, 5, 5, 4, 5, 5, 3, 4, 2, 6, 4, 4, 3, 6, 5, 3, 6, 1,\n",
       "       1, 1, 3, 6, 1, 6, 5, 2, 6, 2, 1, 2])"
      ]
     },
     "execution_count": 19,
     "metadata": {},
     "output_type": "execute_result"
    }
   ],
   "source": [
    "sample = np.random.choice([1,2,3,4,5,6], 100)\n",
    "sample"
   ]
  },
  {
   "cell_type": "markdown",
   "metadata": {},
   "source": [
    "Представим теперь, что эта выборка была получена не искусственно, а путём подбрасывания симметричного шестигранного кубика 100 раз. Оценим вероятности выпадения каждой из сторон с помощью частот:"
   ]
  },
  {
   "cell_type": "code",
   "execution_count": 23,
   "metadata": {
    "scrolled": true
   },
   "outputs": [
    {
     "name": "stdout",
     "output_type": "stream",
     "text": [
      "Число выпадений каждой из сторон:\n",
      "Counter({5: 22, 1: 18, 4: 16, 6: 16, 2: 15, 3: 13})\n",
      "Вероятности выпадений каждой из сторон:\n",
      "{5: 0.22, 4: 0.16, 3: 0.13, 1: 0.18, 2: 0.15, 6: 0.16}\n"
     ]
    }
   ],
   "source": [
    "# посчитаем число выпадений каждой из сторон:\n",
    "from collections import Counter\n",
    "\n",
    "c = Counter(sample)\n",
    "\n",
    "print(\"Число выпадений каждой из сторон:\")    \n",
    "print(c)\n",
    "\n",
    "# теперь поделим на общее число подбрасываний и получим вероятности:\n",
    "print(\"Вероятности выпадений каждой из сторон:\")\n",
    "print({k: v/100.0 for k, v in c.items()})"
   ]
  },
  {
   "cell_type": "markdown",
   "metadata": {},
   "source": [
    "Это и есть оценка функции вероятности дискретного распределения."
   ]
  },
  {
   "cell_type": "markdown",
   "metadata": {},
   "source": [
    "# Непрерывное распределение"
   ]
  },
  {
   "cell_type": "markdown",
   "metadata": {},
   "source": [
    "Сгенерируем выборку объёма 100 из стандартного нормального распределения (с $\\mu=0$ и $\\sigma^2=1$):"
   ]
  },
  {
   "cell_type": "code",
   "execution_count": 27,
   "metadata": {},
   "outputs": [],
   "source": [
    "norm_rv = sts.norm(0, 1)\n",
    "sample = norm_rv.rvs(100)"
   ]
  },
  {
   "cell_type": "markdown",
   "metadata": {},
   "source": [
    "Эмпирическая функция распределения для полученной выборки:"
   ]
  },
  {
   "cell_type": "code",
   "execution_count": 28,
   "metadata": {},
   "outputs": [
    {
     "data": {
      "text/plain": [
       "<matplotlib.legend.Legend at 0x26604b87f28>"
      ]
     },
     "execution_count": 28,
     "metadata": {},
     "output_type": "execute_result"
    },
    {
     "data": {
      "image/png": "[encoded data removed]",
      "text/plain": [
       "<Figure size 432x288 with 1 Axes>"
      ]
     },
     "metadata": {
      "needs_background": "light"
     },
     "output_type": "display_data"
    }
   ],
   "source": [
    "x = np.linspace(-4,4,100)\n",
    "cdf = norm_rv.cdf(x)\n",
    "plt.plot(x, cdf, label='theoretical CDF')\n",
    "\n",
    "# для построения ECDF используем библиотеку statsmodels\n",
    "from statsmodels.distributions.empirical_distribution import ECDF\n",
    "ecdf = ECDF(sample)\n",
    "plt.step(ecdf.x, ecdf.y, label='ECDF')\n",
    "\n",
    "plt.ylabel('$f(x)$')\n",
    "plt.xlabel('$x$')\n",
    "plt.legend()"
   ]
  },
  {
   "cell_type": "markdown",
   "metadata": {},
   "source": [
    "Гистограмма выборки:"
   ]
  },
  {
   "cell_type": "code",
   "execution_count": 31,
   "metadata": {},
   "outputs": [
    {
     "data": {
      "text/plain": [
       "Text(0.5,0,'$x$')"
      ]
     },
     "execution_count": 31,
     "metadata": {},
     "output_type": "execute_result"
    },
    {
     "data": {
      "image/png": "[encoded data removed]",
      "text/plain": [
       "<Figure size 432x288 with 1 Axes>"
      ]
     },
     "metadata": {
      "needs_background": "light"
     },
     "output_type": "display_data"
    }
   ],
   "source": [
    "plt.hist(sample)\n",
    "plt.ylabel('fraction of samples')\n",
    "plt.xlabel('$x$')"
   ]
  },
  {
   "cell_type": "markdown",
   "metadata": {},
   "source": [
    "Попробуем задавать число карманов гистограммы вручную:"
   ]
  },
  {
   "cell_type": "code",
   "execution_count": 32,
   "metadata": {},
   "outputs": [
    {
     "data": {
      "text/plain": [
       "Text(0.5,0,'$x$')"
      ]
     },
     "execution_count": 32,
     "metadata": {},
     "output_type": "execute_result"
    },
    {
     "data": {
      "image/png": "[encoded data removed]",
      "text/plain": [
       "<Figure size 432x288 with 1 Axes>"
      ]
     },
     "metadata": {
      "needs_background": "light"
     },
     "output_type": "display_data"
    }
   ],
   "source": [
    "plt.hist(sample, bins=3)\n",
    "plt.ylabel('fraction of samples')\n",
    "plt.xlabel('$x$')"
   ]
  },
  {
   "cell_type": "code",
   "execution_count": 33,
   "metadata": {},
   "outputs": [
    {
     "data": {
      "text/plain": [
       "Text(0.5,0,'$x$')"
      ]
     },
     "execution_count": 33,
     "metadata": {},
     "output_type": "execute_result"
    },
    {
     "data": {
      "image/png": "[encoded data removed]",
      "text/plain": [
       "<Figure size 432x288 with 1 Axes>"
      ]
     },
     "metadata": {
      "needs_background": "light"
     },
     "output_type": "display_data"
    }
   ],
   "source": [
    "plt.hist(sample, bins=40)\n",
    "plt.ylabel('fraction of samples')\n",
    "plt.xlabel('$x$')"
   ]
  },
  {
   "cell_type": "markdown",
   "metadata": {},
   "source": [
    "Эмпирическая оценка плотности, построенная по выборке с помощью ядерного сглаживания:"
   ]
  },
  {
   "cell_type": "code",
   "execution_count": 36,
   "metadata": {},
   "outputs": [
    {
     "data": {
      "text/plain": [
       "Text(0.5,0,'$x$')"
      ]
     },
     "execution_count": 36,
     "metadata": {},
     "output_type": "execute_result"
    },
    {
     "data": {
      "image/png": "[encoded data removed]",
      "text/plain": [
       "<Figure size 432x288 with 1 Axes>"
      ]
     },
     "metadata": {
      "needs_background": "light"
     },
     "output_type": "display_data"
    }
   ],
   "source": [
    "# для построения используем библиотеку Pandas:\n",
    "df = pd.DataFrame(sample, columns=['KDE'])\n",
    "ax = df.plot(kind='density')\n",
    "\n",
    "# на том же графике построим теоретическую плотность распределения:\n",
    "x = np.linspace(-4,4,100)\n",
    "pdf = norm_rv.pdf(x)\n",
    "plt.plot(x, pdf, label='theoretical pdf', alpha=0.5)\n",
    "plt.legend()\n",
    "plt.ylabel('$f(x)$')\n",
    "plt.xlabel('$x$')"
   ]
  }
 ],
 "metadata": {
  "anaconda-cloud": {},
  "kernelspec": {
   "display_name": "Python 3",
   "language": "python",
   "name": "python3"
  },
  "language_info": {
   "codemirror_mode": {
    "name": "ipython",
    "version": 3
   },
   "file_extension": ".py",
   "mimetype": "text/x-python",
   "name": "python",
   "nbconvert_exporter": "python",
   "pygments_lexer": "ipython3",
   "version": "3.7.0"
  }
 },
 "nbformat": 4,
 "nbformat_minor": 1
}
